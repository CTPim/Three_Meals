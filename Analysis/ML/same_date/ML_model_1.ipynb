{
 "cells": [
  {
   "cell_type": "markdown",
   "id": "4c6a7186",
   "metadata": {},
   "source": [
    "## Purpose\n",
    "This notebook creates a logistic regression model and prints its accuracy score and confusion matrix"
   ]
  },
  {
   "cell_type": "code",
   "execution_count": 1,
   "id": "5f66bd51",
   "metadata": {},
   "outputs": [],
   "source": [
    "import pandas as pd\n",
    "from sklearn.model_selection import train_test_split\n",
    "from sklearn.linear_model import LogisticRegression"
   ]
  },
  {
   "cell_type": "code",
   "execution_count": 2,
   "id": "ef93a9e9",
   "metadata": {},
   "outputs": [
    {
     "data": {
      "text/html": [
       "<div>\n",
       "<style scoped>\n",
       "    .dataframe tbody tr th:only-of-type {\n",
       "        vertical-align: middle;\n",
       "    }\n",
       "\n",
       "    .dataframe tbody tr th {\n",
       "        vertical-align: top;\n",
       "    }\n",
       "\n",
       "    .dataframe thead th {\n",
       "        text-align: right;\n",
       "    }\n",
       "</style>\n",
       "<table border=\"1\" class=\"dataframe\">\n",
       "  <thead>\n",
       "    <tr style=\"text-align: right;\">\n",
       "      <th></th>\n",
       "      <th>date_time</th>\n",
       "      <th>Beef $/LB</th>\n",
       "      <th>Beef_Pct_Change</th>\n",
       "      <th>Wheat_Price</th>\n",
       "      <th>CPI_Price</th>\n",
       "      <th>Milk Cost per Gallon</th>\n",
       "      <th>DJIA_change</th>\n",
       "    </tr>\n",
       "  </thead>\n",
       "  <tbody>\n",
       "    <tr>\n",
       "      <th>0</th>\n",
       "      <td>1995-07-01</td>\n",
       "      <td>1.365</td>\n",
       "      <td>0.024006</td>\n",
       "      <td>1.147</td>\n",
       "      <td>138.200</td>\n",
       "      <td>2.477</td>\n",
       "      <td>1</td>\n",
       "    </tr>\n",
       "    <tr>\n",
       "      <th>1</th>\n",
       "      <td>1995-08-01</td>\n",
       "      <td>1.328</td>\n",
       "      <td>-0.027106</td>\n",
       "      <td>1.161</td>\n",
       "      <td>138.800</td>\n",
       "      <td>2.482</td>\n",
       "      <td>0</td>\n",
       "    </tr>\n",
       "    <tr>\n",
       "      <th>2</th>\n",
       "      <td>1995-09-01</td>\n",
       "      <td>1.376</td>\n",
       "      <td>0.036145</td>\n",
       "      <td>1.159</td>\n",
       "      <td>139.500</td>\n",
       "      <td>2.459</td>\n",
       "      <td>1</td>\n",
       "    </tr>\n",
       "    <tr>\n",
       "      <th>3</th>\n",
       "      <td>1995-10-01</td>\n",
       "      <td>1.371</td>\n",
       "      <td>-0.003634</td>\n",
       "      <td>1.175</td>\n",
       "      <td>140.600</td>\n",
       "      <td>2.473</td>\n",
       "      <td>0</td>\n",
       "    </tr>\n",
       "    <tr>\n",
       "      <th>4</th>\n",
       "      <td>1995-11-01</td>\n",
       "      <td>1.368</td>\n",
       "      <td>-0.002188</td>\n",
       "      <td>1.169</td>\n",
       "      <td>141.000</td>\n",
       "      <td>2.493</td>\n",
       "      <td>1</td>\n",
       "    </tr>\n",
       "    <tr>\n",
       "      <th>...</th>\n",
       "      <td>...</td>\n",
       "      <td>...</td>\n",
       "      <td>...</td>\n",
       "      <td>...</td>\n",
       "      <td>...</td>\n",
       "      <td>...</td>\n",
       "      <td>...</td>\n",
       "    </tr>\n",
       "    <tr>\n",
       "      <th>326</th>\n",
       "      <td>2022-09-01</td>\n",
       "      <td>4.862</td>\n",
       "      <td>-0.015191</td>\n",
       "      <td>2.362</td>\n",
       "      <td>318.374</td>\n",
       "      <td>4.181</td>\n",
       "      <td>0</td>\n",
       "    </tr>\n",
       "    <tr>\n",
       "      <th>327</th>\n",
       "      <td>2022-10-01</td>\n",
       "      <td>4.836</td>\n",
       "      <td>-0.005348</td>\n",
       "      <td>2.386</td>\n",
       "      <td>319.917</td>\n",
       "      <td>4.184</td>\n",
       "      <td>1</td>\n",
       "    </tr>\n",
       "    <tr>\n",
       "      <th>328</th>\n",
       "      <td>2022-11-01</td>\n",
       "      <td>4.853</td>\n",
       "      <td>0.003515</td>\n",
       "      <td>2.419</td>\n",
       "      <td>320.034</td>\n",
       "      <td>4.218</td>\n",
       "      <td>1</td>\n",
       "    </tr>\n",
       "    <tr>\n",
       "      <th>329</th>\n",
       "      <td>2022-12-01</td>\n",
       "      <td>4.800</td>\n",
       "      <td>-0.010921</td>\n",
       "      <td>2.419</td>\n",
       "      <td>322.507</td>\n",
       "      <td>4.211</td>\n",
       "      <td>0</td>\n",
       "    </tr>\n",
       "    <tr>\n",
       "      <th>330</th>\n",
       "      <td>2023-01-01</td>\n",
       "      <td>4.791</td>\n",
       "      <td>-0.001875</td>\n",
       "      <td>2.451</td>\n",
       "      <td>324.815</td>\n",
       "      <td>4.204</td>\n",
       "      <td>1</td>\n",
       "    </tr>\n",
       "  </tbody>\n",
       "</table>\n",
       "<p>331 rows × 7 columns</p>\n",
       "</div>"
      ],
      "text/plain": [
       "      date_time  Beef $/LB  Beef_Pct_Change  Wheat_Price  CPI_Price  \\\n",
       "0    1995-07-01      1.365         0.024006        1.147    138.200   \n",
       "1    1995-08-01      1.328        -0.027106        1.161    138.800   \n",
       "2    1995-09-01      1.376         0.036145        1.159    139.500   \n",
       "3    1995-10-01      1.371        -0.003634        1.175    140.600   \n",
       "4    1995-11-01      1.368        -0.002188        1.169    141.000   \n",
       "..          ...        ...              ...          ...        ...   \n",
       "326  2022-09-01      4.862        -0.015191        2.362    318.374   \n",
       "327  2022-10-01      4.836        -0.005348        2.386    319.917   \n",
       "328  2022-11-01      4.853         0.003515        2.419    320.034   \n",
       "329  2022-12-01      4.800        -0.010921        2.419    322.507   \n",
       "330  2023-01-01      4.791        -0.001875        2.451    324.815   \n",
       "\n",
       "     Milk Cost per Gallon  DJIA_change  \n",
       "0                   2.477            1  \n",
       "1                   2.482            0  \n",
       "2                   2.459            1  \n",
       "3                   2.473            0  \n",
       "4                   2.493            1  \n",
       "..                    ...          ...  \n",
       "326                 4.181            0  \n",
       "327                 4.184            1  \n",
       "328                 4.218            1  \n",
       "329                 4.211            0  \n",
       "330                 4.204            1  \n",
       "\n",
       "[331 rows x 7 columns]"
      ]
     },
     "execution_count": 2,
     "metadata": {},
     "output_type": "execute_result"
    }
   ],
   "source": [
    "file_path = \"all_price_data_withdatetime.csv\"\n",
    "price_df = pd.read_csv(file_path)\n",
    "price_df"
   ]
  },
  {
   "cell_type": "code",
   "execution_count": 3,
   "id": "f7a68451",
   "metadata": {
    "scrolled": true
   },
   "outputs": [
    {
     "data": {
      "text/html": [
       "<div>\n",
       "<style scoped>\n",
       "    .dataframe tbody tr th:only-of-type {\n",
       "        vertical-align: middle;\n",
       "    }\n",
       "\n",
       "    .dataframe tbody tr th {\n",
       "        vertical-align: top;\n",
       "    }\n",
       "\n",
       "    .dataframe thead th {\n",
       "        text-align: right;\n",
       "    }\n",
       "</style>\n",
       "<table border=\"1\" class=\"dataframe\">\n",
       "  <thead>\n",
       "    <tr style=\"text-align: right;\">\n",
       "      <th></th>\n",
       "      <th>Beef $/LB</th>\n",
       "      <th>Beef_Pct_Change</th>\n",
       "      <th>Wheat_Price</th>\n",
       "      <th>CPI_Price</th>\n",
       "      <th>Milk Cost per Gallon</th>\n",
       "      <th>DJIA_change</th>\n",
       "    </tr>\n",
       "    <tr>\n",
       "      <th>date_time</th>\n",
       "      <th></th>\n",
       "      <th></th>\n",
       "      <th></th>\n",
       "      <th></th>\n",
       "      <th></th>\n",
       "      <th></th>\n",
       "    </tr>\n",
       "  </thead>\n",
       "  <tbody>\n",
       "    <tr>\n",
       "      <th>1995-07-01</th>\n",
       "      <td>1.365</td>\n",
       "      <td>0.024006</td>\n",
       "      <td>1.147</td>\n",
       "      <td>138.2</td>\n",
       "      <td>2.477</td>\n",
       "      <td>1</td>\n",
       "    </tr>\n",
       "    <tr>\n",
       "      <th>1995-08-01</th>\n",
       "      <td>1.328</td>\n",
       "      <td>-0.027106</td>\n",
       "      <td>1.161</td>\n",
       "      <td>138.8</td>\n",
       "      <td>2.482</td>\n",
       "      <td>0</td>\n",
       "    </tr>\n",
       "    <tr>\n",
       "      <th>1995-09-01</th>\n",
       "      <td>1.376</td>\n",
       "      <td>0.036145</td>\n",
       "      <td>1.159</td>\n",
       "      <td>139.5</td>\n",
       "      <td>2.459</td>\n",
       "      <td>1</td>\n",
       "    </tr>\n",
       "    <tr>\n",
       "      <th>1995-10-01</th>\n",
       "      <td>1.371</td>\n",
       "      <td>-0.003634</td>\n",
       "      <td>1.175</td>\n",
       "      <td>140.6</td>\n",
       "      <td>2.473</td>\n",
       "      <td>0</td>\n",
       "    </tr>\n",
       "    <tr>\n",
       "      <th>1995-11-01</th>\n",
       "      <td>1.368</td>\n",
       "      <td>-0.002188</td>\n",
       "      <td>1.169</td>\n",
       "      <td>141.0</td>\n",
       "      <td>2.493</td>\n",
       "      <td>1</td>\n",
       "    </tr>\n",
       "  </tbody>\n",
       "</table>\n",
       "</div>"
      ],
      "text/plain": [
       "            Beef $/LB  Beef_Pct_Change  Wheat_Price  CPI_Price  \\\n",
       "date_time                                                        \n",
       "1995-07-01      1.365         0.024006        1.147      138.2   \n",
       "1995-08-01      1.328        -0.027106        1.161      138.8   \n",
       "1995-09-01      1.376         0.036145        1.159      139.5   \n",
       "1995-10-01      1.371        -0.003634        1.175      140.6   \n",
       "1995-11-01      1.368        -0.002188        1.169      141.0   \n",
       "\n",
       "            Milk Cost per Gallon  DJIA_change  \n",
       "date_time                                      \n",
       "1995-07-01                 2.477            1  \n",
       "1995-08-01                 2.482            0  \n",
       "1995-09-01                 2.459            1  \n",
       "1995-10-01                 2.473            0  \n",
       "1995-11-01                 2.493            1  "
      ]
     },
     "execution_count": 3,
     "metadata": {},
     "output_type": "execute_result"
    }
   ],
   "source": [
    "# Make datetime the index\n",
    "price_df = price_df.set_index(\"date_time\")\n",
    "price_df.head()"
   ]
  },
  {
   "cell_type": "code",
   "execution_count": null,
   "id": "b9e714a5",
   "metadata": {},
   "outputs": [],
   "source": [
    "# Output this dataframe as CSV for future use\n",
    "# price_df.to_csv(\"ML1_data.csv\")"
   ]
  },
  {
   "cell_type": "code",
   "execution_count": 4,
   "id": "b454c40f",
   "metadata": {},
   "outputs": [
    {
     "name": "stdout",
     "output_type": "stream",
     "text": [
      "125\n",
      "331\n",
      "----------\n",
      "The proportion of down months is 0.38%.\n",
      "The proportion of up months is 0.62%.\n"
     ]
    }
   ],
   "source": [
    "# Check out proportion of up months to down months\n",
    "down_months = len(price_df.loc[price_df[\"DJIA_change\"] == 0])\n",
    "all_months = len(price_df)\n",
    "up_months = all_months - down_months\n",
    "print(down_months)\n",
    "print(all_months)\n",
    "print(\"----------\")\n",
    "prp_dwn = down_months / all_months\n",
    "prp_up = up_months / all_months\n",
    "print(f'The proportion of down months is {prp_dwn:.2f}%.')\n",
    "print(f'The proportion of up months is {prp_up:.2f}%.')"
   ]
  },
  {
   "cell_type": "code",
   "execution_count": 5,
   "id": "1a1a16dc",
   "metadata": {},
   "outputs": [],
   "source": [
    "# Slightly more than one third of all months in dataset declined.\n",
    "# That means slightly less than two thirds saw an increase.\n",
    "# We may want to strtify the data in train_test_split"
   ]
  },
  {
   "cell_type": "code",
   "execution_count": 6,
   "id": "af89a02e",
   "metadata": {},
   "outputs": [],
   "source": [
    "# Separate features from target\n",
    "\n",
    "# The target is whether the DJIA went up or down\n",
    "y = price_df[\"DJIA_change\"]\n",
    "\n",
    "# Features are all other data\n",
    "X = price_df.drop(columns=\"DJIA_change\")"
   ]
  },
  {
   "cell_type": "code",
   "execution_count": null,
   "id": "496d09d0",
   "metadata": {},
   "outputs": [],
   "source": [
    "# Split into training and testing sets\n",
    "# First try without stratifying data\n",
    "X_train, X_test, y_train, y_test = train_test_split(X, y)"
   ]
  },
  {
   "cell_type": "code",
   "execution_count": null,
   "id": "713ed787",
   "metadata": {},
   "outputs": [],
   "source": [
    "# Create logistic regression model\n",
    "classifier = LogisticRegression(solver='lbfgs', max_iter=200)\n",
    "\n",
    "classifier.fit(X_train, y_train)"
   ]
  },
  {
   "cell_type": "code",
   "execution_count": null,
   "id": "1a8b973a",
   "metadata": {},
   "outputs": [],
   "source": [
    "# Make predicitons\n",
    "y_pred = classifier.predict(X_test)\n",
    "results_df = pd.DataFrame({\"Prediction\": y_pred, \"Actual\": y_test}).reset_index(drop=True)\n",
    "results_df.head(20)"
   ]
  },
  {
   "cell_type": "code",
   "execution_count": null,
   "id": "60466a57",
   "metadata": {},
   "outputs": [],
   "source": [
    "from sklearn.metrics import accuracy_score\n",
    "print(accuracy_score(y_test, y_pred))"
   ]
  },
  {
   "cell_type": "code",
   "execution_count": null,
   "id": "a919d9c3",
   "metadata": {},
   "outputs": [],
   "source": [
    "from sklearn.metrics import confusion_matrix, classification_report"
   ]
  },
  {
   "cell_type": "code",
   "execution_count": null,
   "id": "2e6b7cb3",
   "metadata": {},
   "outputs": [],
   "source": [
    "matrix = confusion_matrix(y_test, y_pred)\n",
    "print(matrix)"
   ]
  },
  {
   "cell_type": "code",
   "execution_count": null,
   "id": "8d2d5a30",
   "metadata": {
    "scrolled": true
   },
   "outputs": [],
   "source": [
    "report = classification_report(y_test, y_pred)\n",
    "print(report)"
   ]
  },
  {
   "cell_type": "markdown",
   "id": "4f6d8650",
   "metadata": {},
   "source": [
    "## Notes:\n",
    "As noted above, the proportion of all positive months is about 62%. That means if you were to have predicted that the DJIA would go up every month, you would have been right 62% of the time. With an accuracy score of 65%, this model is performing slightly better than that. \n",
    "\n",
    "### Suggestions to try to improve the model\n",
    "\n",
    "- increase maximum iterations\n",
    "- stratify the testing and training data\n",
    "- include percent change data for milk, wheat, and food cpi prices"
   ]
  },
  {
   "cell_type": "markdown",
   "id": "0c399476",
   "metadata": {},
   "source": [
    "## Attempt 2:\n",
    "This attempt will add percent change data and stratify the training and testing sets."
   ]
  },
  {
   "cell_type": "code",
   "execution_count": null,
   "id": "beef8841",
   "metadata": {},
   "outputs": [],
   "source": [
    "price_df"
   ]
  },
  {
   "cell_type": "code",
   "execution_count": null,
   "id": "15d4a764",
   "metadata": {},
   "outputs": [],
   "source": [
    "price_df[\"Wheat_Pct_Change\"] = price_df[\"Wheat_Price\"].pct_change()\n",
    "price_df.head()"
   ]
  },
  {
   "cell_type": "code",
   "execution_count": null,
   "id": "33f23825",
   "metadata": {},
   "outputs": [],
   "source": [
    "price_df[\"Milk_Pct_Change\"] = price_df[\"Milk Cost per Gallon\"].pct_change()\n",
    "price_df.head()"
   ]
  },
  {
   "cell_type": "code",
   "execution_count": null,
   "id": "82d8e578",
   "metadata": {
    "scrolled": true
   },
   "outputs": [],
   "source": [
    "price_df[\"CPI_Pct_Change\"] = price_df[\"CPI_Price\"].pct_change()\n",
    "price_df.head()"
   ]
  },
  {
   "cell_type": "code",
   "execution_count": null,
   "id": "f2244291",
   "metadata": {},
   "outputs": [],
   "source": [
    "# Remove rows with null values\n",
    "price_nona_df = price_df.dropna()\n",
    "price_nona_df"
   ]
  },
  {
   "cell_type": "code",
   "execution_count": null,
   "id": "6ce034bf",
   "metadata": {},
   "outputs": [],
   "source": [
    "# Export above df as csv\n",
    "# price_nona_df.to_csv(\"../../../Edited Data/Output/prices_and_pct_change.csv\")"
   ]
  },
  {
   "cell_type": "code",
   "execution_count": null,
   "id": "b60e2d66",
   "metadata": {},
   "outputs": [],
   "source": [
    "# Separate features from target\n",
    "\n",
    "# The target is whether the DJIA went up or down\n",
    "y = price_nona_df[\"DJIA_change\"]\n",
    "\n",
    "# Features are all other data\n",
    "X = price_nona_df.drop(columns=\"DJIA_change\")"
   ]
  },
  {
   "cell_type": "code",
   "execution_count": null,
   "id": "a3d945e4",
   "metadata": {},
   "outputs": [],
   "source": [
    "# Split into training and testing sets\n",
    "# Stratify data\n",
    "X_train, X_test, y_train, y_test = train_test_split(X, y, stratify=y)"
   ]
  },
  {
   "cell_type": "code",
   "execution_count": null,
   "id": "c6118be9",
   "metadata": {},
   "outputs": [],
   "source": [
    "# Create logistic regression model\n",
    "classifier = LogisticRegression(solver='lbfgs', max_iter=200)\n",
    "\n",
    "classifier.fit(X_train, y_train)"
   ]
  },
  {
   "cell_type": "code",
   "execution_count": null,
   "id": "2e231281",
   "metadata": {},
   "outputs": [],
   "source": [
    "# Make predicitons\n",
    "y_pred = classifier.predict(X_test)\n",
    "results_df = pd.DataFrame({\"Prediction\": y_pred, \"Actual\": y_test}).reset_index(drop=True)\n",
    "results_df.head(20)"
   ]
  },
  {
   "cell_type": "code",
   "execution_count": null,
   "id": "f351f625",
   "metadata": {},
   "outputs": [],
   "source": [
    "from sklearn.metrics import accuracy_score\n",
    "print(accuracy_score(y_test, y_pred))"
   ]
  },
  {
   "cell_type": "code",
   "execution_count": null,
   "id": "0d46d670",
   "metadata": {},
   "outputs": [],
   "source": [
    "from sklearn.metrics import confusion_matrix, classification_report"
   ]
  },
  {
   "cell_type": "code",
   "execution_count": null,
   "id": "9d62a067",
   "metadata": {},
   "outputs": [],
   "source": [
    "matrix = confusion_matrix(y_test, y_pred)\n",
    "print(matrix)"
   ]
  },
  {
   "cell_type": "code",
   "execution_count": null,
   "id": "7eb0acce",
   "metadata": {
    "scrolled": false
   },
   "outputs": [],
   "source": [
    "report = classification_report(y_test, y_pred)\n",
    "print(report)"
   ]
  },
  {
   "cell_type": "markdown",
   "id": "85ab59cf",
   "metadata": {},
   "source": [
    "### Notes:\n",
    "These changes made a slight improvement. With the new percent change data and stratifcation of the training and testing sets, the same model received an accuracy score of about 66.3%, compared to the previous score of 65.2%. "
   ]
  },
  {
   "cell_type": "markdown",
   "id": "b927602b",
   "metadata": {},
   "source": [
    "## Attempt 3:\n",
    "Run the same model with the same data as in Attempt to, but with more iterations"
   ]
  },
  {
   "cell_type": "code",
   "execution_count": null,
   "id": "7204d896",
   "metadata": {},
   "outputs": [],
   "source": [
    "# Create logistic regression model\n",
    "# Double maximum iterations to 400\n",
    "classifier = LogisticRegression(solver='lbfgs', max_iter=400)\n",
    "\n",
    "classifier.fit(X_train, y_train)"
   ]
  },
  {
   "cell_type": "code",
   "execution_count": null,
   "id": "98bc600f",
   "metadata": {},
   "outputs": [],
   "source": [
    "# Make predicitons\n",
    "y_pred = classifier.predict(X_test)\n",
    "results_df = pd.DataFrame({\"Prediction\": y_pred, \"Actual\": y_test}).reset_index(drop=True)\n",
    "results_df.head(20)"
   ]
  },
  {
   "cell_type": "code",
   "execution_count": null,
   "id": "b1d48f04",
   "metadata": {},
   "outputs": [],
   "source": [
    "from sklearn.metrics import accuracy_score\n",
    "print(accuracy_score(y_test, y_pred))"
   ]
  },
  {
   "cell_type": "code",
   "execution_count": null,
   "id": "f0290996",
   "metadata": {},
   "outputs": [],
   "source": [
    "from sklearn.metrics import confusion_matrix, classification_report"
   ]
  },
  {
   "cell_type": "code",
   "execution_count": null,
   "id": "3ade827a",
   "metadata": {},
   "outputs": [],
   "source": [
    "matrix = confusion_matrix(y_test, y_pred)\n",
    "print(matrix)"
   ]
  },
  {
   "cell_type": "code",
   "execution_count": null,
   "id": "92ee0432",
   "metadata": {
    "scrolled": false
   },
   "outputs": [],
   "source": [
    "report = classification_report(y_test, y_pred)\n",
    "print(report)"
   ]
  },
  {
   "cell_type": "markdown",
   "id": "713eff4e",
   "metadata": {},
   "source": [
    "### Notes:\n",
    "This made no difference."
   ]
  },
  {
   "cell_type": "markdown",
   "id": "6685b040",
   "metadata": {},
   "source": [
    "## Attempt 3:\n",
    "Decrease iterations from the original 200."
   ]
  },
  {
   "cell_type": "code",
   "execution_count": null,
   "id": "efa923f6",
   "metadata": {},
   "outputs": [],
   "source": [
    "# Create logistic regression model\n",
    "# Decrease max iterations to 150\n",
    "classifier = LogisticRegression(solver='lbfgs', max_iter=150)\n",
    "\n",
    "classifier.fit(X_train, y_train)"
   ]
  },
  {
   "cell_type": "code",
   "execution_count": null,
   "id": "19669efe",
   "metadata": {},
   "outputs": [],
   "source": [
    "# Make predicitons\n",
    "y_pred = classifier.predict(X_test)\n",
    "results_df = pd.DataFrame({\"Prediction\": y_pred, \"Actual\": y_test}).reset_index(drop=True)\n",
    "results_df.head(20)"
   ]
  },
  {
   "cell_type": "code",
   "execution_count": null,
   "id": "a94ac470",
   "metadata": {},
   "outputs": [],
   "source": [
    "from sklearn.metrics import accuracy_score\n",
    "print(accuracy_score(y_test, y_pred))"
   ]
  },
  {
   "cell_type": "code",
   "execution_count": null,
   "id": "cf275ced",
   "metadata": {},
   "outputs": [],
   "source": [
    "from sklearn.metrics import confusion_matrix, classification_report"
   ]
  },
  {
   "cell_type": "code",
   "execution_count": null,
   "id": "c8e80b3a",
   "metadata": {},
   "outputs": [],
   "source": [
    "matrix = confusion_matrix(y_test, y_pred)\n",
    "print(matrix)"
   ]
  },
  {
   "cell_type": "code",
   "execution_count": null,
   "id": "4892a4ca",
   "metadata": {
    "scrolled": false
   },
   "outputs": [],
   "source": [
    "report = classification_report(y_test, y_pred)\n",
    "print(report)"
   ]
  },
  {
   "cell_type": "markdown",
   "id": "d30165b6",
   "metadata": {},
   "source": [
    "### Notes:\n",
    "No meaningful difference."
   ]
  },
  {
   "cell_type": "markdown",
   "id": "f4c62a1d",
   "metadata": {},
   "source": [
    "## Attempt 4:\n",
    "Test same model from Attempt 2 (most successful) on data from after 2008"
   ]
  },
  {
   "cell_type": "code",
   "execution_count": 7,
   "id": "8f77adab",
   "metadata": {},
   "outputs": [
    {
     "data": {
      "text/html": [
       "<div>\n",
       "<style scoped>\n",
       "    .dataframe tbody tr th:only-of-type {\n",
       "        vertical-align: middle;\n",
       "    }\n",
       "\n",
       "    .dataframe tbody tr th {\n",
       "        vertical-align: top;\n",
       "    }\n",
       "\n",
       "    .dataframe thead th {\n",
       "        text-align: right;\n",
       "    }\n",
       "</style>\n",
       "<table border=\"1\" class=\"dataframe\">\n",
       "  <thead>\n",
       "    <tr style=\"text-align: right;\">\n",
       "      <th></th>\n",
       "      <th>date_time</th>\n",
       "      <th>Beef $/LB</th>\n",
       "      <th>Beef_Pct_Change</th>\n",
       "      <th>Wheat_Price</th>\n",
       "      <th>CPI_Price</th>\n",
       "      <th>Milk Cost per Gallon</th>\n",
       "      <th>DJIA_change</th>\n",
       "      <th>Wheat_Pct_Change</th>\n",
       "      <th>Milk_Pct_Change</th>\n",
       "      <th>CPI_Pct_Change</th>\n",
       "    </tr>\n",
       "  </thead>\n",
       "  <tbody>\n",
       "    <tr>\n",
       "      <th>0</th>\n",
       "      <td>1995-08-01</td>\n",
       "      <td>1.328</td>\n",
       "      <td>-0.027106</td>\n",
       "      <td>1.161</td>\n",
       "      <td>138.8</td>\n",
       "      <td>2.482</td>\n",
       "      <td>0</td>\n",
       "      <td>0.012206</td>\n",
       "      <td>0.002019</td>\n",
       "      <td>0.004342</td>\n",
       "    </tr>\n",
       "    <tr>\n",
       "      <th>1</th>\n",
       "      <td>1995-09-01</td>\n",
       "      <td>1.376</td>\n",
       "      <td>0.036145</td>\n",
       "      <td>1.159</td>\n",
       "      <td>139.5</td>\n",
       "      <td>2.459</td>\n",
       "      <td>1</td>\n",
       "      <td>-0.001723</td>\n",
       "      <td>-0.009267</td>\n",
       "      <td>0.005043</td>\n",
       "    </tr>\n",
       "    <tr>\n",
       "      <th>2</th>\n",
       "      <td>1995-10-01</td>\n",
       "      <td>1.371</td>\n",
       "      <td>-0.003634</td>\n",
       "      <td>1.175</td>\n",
       "      <td>140.6</td>\n",
       "      <td>2.473</td>\n",
       "      <td>0</td>\n",
       "      <td>0.013805</td>\n",
       "      <td>0.005693</td>\n",
       "      <td>0.007885</td>\n",
       "    </tr>\n",
       "    <tr>\n",
       "      <th>3</th>\n",
       "      <td>1995-11-01</td>\n",
       "      <td>1.368</td>\n",
       "      <td>-0.002188</td>\n",
       "      <td>1.169</td>\n",
       "      <td>141.0</td>\n",
       "      <td>2.493</td>\n",
       "      <td>1</td>\n",
       "      <td>-0.005106</td>\n",
       "      <td>0.008087</td>\n",
       "      <td>0.002845</td>\n",
       "    </tr>\n",
       "    <tr>\n",
       "      <th>4</th>\n",
       "      <td>1995-12-01</td>\n",
       "      <td>1.403</td>\n",
       "      <td>0.025585</td>\n",
       "      <td>1.154</td>\n",
       "      <td>141.5</td>\n",
       "      <td>2.518</td>\n",
       "      <td>1</td>\n",
       "      <td>-0.012831</td>\n",
       "      <td>0.010028</td>\n",
       "      <td>0.003546</td>\n",
       "    </tr>\n",
       "  </tbody>\n",
       "</table>\n",
       "</div>"
      ],
      "text/plain": [
       "    date_time  Beef $/LB  Beef_Pct_Change  Wheat_Price  CPI_Price  \\\n",
       "0  1995-08-01      1.328        -0.027106        1.161      138.8   \n",
       "1  1995-09-01      1.376         0.036145        1.159      139.5   \n",
       "2  1995-10-01      1.371        -0.003634        1.175      140.6   \n",
       "3  1995-11-01      1.368        -0.002188        1.169      141.0   \n",
       "4  1995-12-01      1.403         0.025585        1.154      141.5   \n",
       "\n",
       "   Milk Cost per Gallon  DJIA_change  Wheat_Pct_Change  Milk_Pct_Change  \\\n",
       "0                 2.482            0          0.012206         0.002019   \n",
       "1                 2.459            1         -0.001723        -0.009267   \n",
       "2                 2.473            0          0.013805         0.005693   \n",
       "3                 2.493            1         -0.005106         0.008087   \n",
       "4                 2.518            1         -0.012831         0.010028   \n",
       "\n",
       "   CPI_Pct_Change  \n",
       "0        0.004342  \n",
       "1        0.005043  \n",
       "2        0.007885  \n",
       "3        0.002845  \n",
       "4        0.003546  "
      ]
     },
     "execution_count": 7,
     "metadata": {},
     "output_type": "execute_result"
    }
   ],
   "source": [
    "# Visualize df\n",
    "price_df = pd.read_csv(\"../../../Edited Data/Output/prices_and_pct_change.csv\")\n",
    "price_df.head()"
   ]
  },
  {
   "cell_type": "code",
   "execution_count": 8,
   "id": "9c2d5704",
   "metadata": {
    "scrolled": true
   },
   "outputs": [
    {
     "data": {
      "text/plain": [
       "date_time                object\n",
       "Beef $/LB               float64\n",
       "Beef_Pct_Change         float64\n",
       "Wheat_Price             float64\n",
       "CPI_Price               float64\n",
       "Milk Cost per Gallon    float64\n",
       "DJIA_change               int64\n",
       "Wheat_Pct_Change        float64\n",
       "Milk_Pct_Change         float64\n",
       "CPI_Pct_Change          float64\n",
       "dtype: object"
      ]
     },
     "execution_count": 8,
     "metadata": {},
     "output_type": "execute_result"
    }
   ],
   "source": [
    "price_df.dtypes"
   ]
  },
  {
   "cell_type": "code",
   "execution_count": 11,
   "id": "355063b0",
   "metadata": {
    "scrolled": true
   },
   "outputs": [
    {
     "data": {
      "text/plain": [
       "date_time               datetime64[ns]\n",
       "Beef $/LB                      float64\n",
       "Beef_Pct_Change                float64\n",
       "Wheat_Price                    float64\n",
       "CPI_Price                      float64\n",
       "Milk Cost per Gallon           float64\n",
       "DJIA_change                      int64\n",
       "Wheat_Pct_Change               float64\n",
       "Milk_Pct_Change                float64\n",
       "CPI_Pct_Change                 float64\n",
       "dtype: object"
      ]
     },
     "execution_count": 11,
     "metadata": {},
     "output_type": "execute_result"
    }
   ],
   "source": [
    "# Convert dates to datetime format\n",
    "price_df[\"date_time\"] = pd.to_datetime(price_df[\"date_time\"], format=\"%Y-%m-%d\")\n",
    "price_df.dtypes"
   ]
  },
  {
   "cell_type": "code",
   "execution_count": 12,
   "id": "39cf40a8",
   "metadata": {},
   "outputs": [
    {
     "data": {
      "text/html": [
       "<div>\n",
       "<style scoped>\n",
       "    .dataframe tbody tr th:only-of-type {\n",
       "        vertical-align: middle;\n",
       "    }\n",
       "\n",
       "    .dataframe tbody tr th {\n",
       "        vertical-align: top;\n",
       "    }\n",
       "\n",
       "    .dataframe thead th {\n",
       "        text-align: right;\n",
       "    }\n",
       "</style>\n",
       "<table border=\"1\" class=\"dataframe\">\n",
       "  <thead>\n",
       "    <tr style=\"text-align: right;\">\n",
       "      <th></th>\n",
       "      <th>date_time</th>\n",
       "      <th>Beef $/LB</th>\n",
       "      <th>Beef_Pct_Change</th>\n",
       "      <th>Wheat_Price</th>\n",
       "      <th>CPI_Price</th>\n",
       "      <th>Milk Cost per Gallon</th>\n",
       "      <th>DJIA_change</th>\n",
       "      <th>Wheat_Pct_Change</th>\n",
       "      <th>Milk_Pct_Change</th>\n",
       "      <th>CPI_Pct_Change</th>\n",
       "    </tr>\n",
       "  </thead>\n",
       "  <tbody>\n",
       "    <tr>\n",
       "      <th>149</th>\n",
       "      <td>2008-01-01</td>\n",
       "      <td>2.328</td>\n",
       "      <td>0.042077</td>\n",
       "      <td>1.812</td>\n",
       "      <td>199.793</td>\n",
       "      <td>3.871</td>\n",
       "      <td>0</td>\n",
       "      <td>0.001658</td>\n",
       "      <td>0.000258</td>\n",
       "      <td>0.005046</td>\n",
       "    </tr>\n",
       "    <tr>\n",
       "      <th>150</th>\n",
       "      <td>2008-02-01</td>\n",
       "      <td>2.381</td>\n",
       "      <td>0.022766</td>\n",
       "      <td>1.884</td>\n",
       "      <td>199.835</td>\n",
       "      <td>3.869</td>\n",
       "      <td>0</td>\n",
       "      <td>0.039735</td>\n",
       "      <td>-0.000517</td>\n",
       "      <td>0.000210</td>\n",
       "    </tr>\n",
       "    <tr>\n",
       "      <th>151</th>\n",
       "      <td>2008-03-01</td>\n",
       "      <td>2.293</td>\n",
       "      <td>-0.036959</td>\n",
       "      <td>1.873</td>\n",
       "      <td>200.059</td>\n",
       "      <td>3.781</td>\n",
       "      <td>0</td>\n",
       "      <td>-0.005839</td>\n",
       "      <td>-0.022745</td>\n",
       "      <td>0.001121</td>\n",
       "    </tr>\n",
       "    <tr>\n",
       "      <th>152</th>\n",
       "      <td>2008-04-01</td>\n",
       "      <td>2.323</td>\n",
       "      <td>0.013083</td>\n",
       "      <td>1.920</td>\n",
       "      <td>201.079</td>\n",
       "      <td>3.799</td>\n",
       "      <td>1</td>\n",
       "      <td>0.025093</td>\n",
       "      <td>0.004761</td>\n",
       "      <td>0.005098</td>\n",
       "    </tr>\n",
       "    <tr>\n",
       "      <th>153</th>\n",
       "      <td>2008-05-01</td>\n",
       "      <td>2.313</td>\n",
       "      <td>-0.004305</td>\n",
       "      <td>1.973</td>\n",
       "      <td>201.873</td>\n",
       "      <td>3.760</td>\n",
       "      <td>0</td>\n",
       "      <td>0.027604</td>\n",
       "      <td>-0.010266</td>\n",
       "      <td>0.003949</td>\n",
       "    </tr>\n",
       "  </tbody>\n",
       "</table>\n",
       "</div>"
      ],
      "text/plain": [
       "     date_time  Beef $/LB  Beef_Pct_Change  Wheat_Price  CPI_Price  \\\n",
       "149 2008-01-01      2.328         0.042077        1.812    199.793   \n",
       "150 2008-02-01      2.381         0.022766        1.884    199.835   \n",
       "151 2008-03-01      2.293        -0.036959        1.873    200.059   \n",
       "152 2008-04-01      2.323         0.013083        1.920    201.079   \n",
       "153 2008-05-01      2.313        -0.004305        1.973    201.873   \n",
       "\n",
       "     Milk Cost per Gallon  DJIA_change  Wheat_Pct_Change  Milk_Pct_Change  \\\n",
       "149                 3.871            0          0.001658         0.000258   \n",
       "150                 3.869            0          0.039735        -0.000517   \n",
       "151                 3.781            0         -0.005839        -0.022745   \n",
       "152                 3.799            1          0.025093         0.004761   \n",
       "153                 3.760            0          0.027604        -0.010266   \n",
       "\n",
       "     CPI_Pct_Change  \n",
       "149        0.005046  \n",
       "150        0.000210  \n",
       "151        0.001121  \n",
       "152        0.005098  \n",
       "153        0.003949  "
      ]
     },
     "execution_count": 12,
     "metadata": {},
     "output_type": "execute_result"
    }
   ],
   "source": [
    "price_2008_df = price_df.loc[price_df[\"date_time\"] >= \"2008-01-01\"]\n",
    "price_2008_df.head()"
   ]
  },
  {
   "cell_type": "code",
   "execution_count": 25,
   "id": "4f38f450",
   "metadata": {},
   "outputs": [
    {
     "data": {
      "text/html": [
       "<div>\n",
       "<style scoped>\n",
       "    .dataframe tbody tr th:only-of-type {\n",
       "        vertical-align: middle;\n",
       "    }\n",
       "\n",
       "    .dataframe tbody tr th {\n",
       "        vertical-align: top;\n",
       "    }\n",
       "\n",
       "    .dataframe thead th {\n",
       "        text-align: right;\n",
       "    }\n",
       "</style>\n",
       "<table border=\"1\" class=\"dataframe\">\n",
       "  <thead>\n",
       "    <tr style=\"text-align: right;\">\n",
       "      <th></th>\n",
       "      <th>Beef $/LB</th>\n",
       "      <th>Beef_Pct_Change</th>\n",
       "      <th>Wheat_Price</th>\n",
       "      <th>CPI_Price</th>\n",
       "      <th>Milk Cost per Gallon</th>\n",
       "      <th>DJIA_change</th>\n",
       "      <th>Wheat_Pct_Change</th>\n",
       "      <th>Milk_Pct_Change</th>\n",
       "      <th>CPI_Pct_Change</th>\n",
       "    </tr>\n",
       "  </thead>\n",
       "  <tbody>\n",
       "    <tr>\n",
       "      <th>149</th>\n",
       "      <td>2.328</td>\n",
       "      <td>0.042077</td>\n",
       "      <td>1.812</td>\n",
       "      <td>199.793</td>\n",
       "      <td>3.871</td>\n",
       "      <td>0</td>\n",
       "      <td>0.001658</td>\n",
       "      <td>0.000258</td>\n",
       "      <td>0.005046</td>\n",
       "    </tr>\n",
       "    <tr>\n",
       "      <th>150</th>\n",
       "      <td>2.381</td>\n",
       "      <td>0.022766</td>\n",
       "      <td>1.884</td>\n",
       "      <td>199.835</td>\n",
       "      <td>3.869</td>\n",
       "      <td>0</td>\n",
       "      <td>0.039735</td>\n",
       "      <td>-0.000517</td>\n",
       "      <td>0.000210</td>\n",
       "    </tr>\n",
       "    <tr>\n",
       "      <th>151</th>\n",
       "      <td>2.293</td>\n",
       "      <td>-0.036959</td>\n",
       "      <td>1.873</td>\n",
       "      <td>200.059</td>\n",
       "      <td>3.781</td>\n",
       "      <td>0</td>\n",
       "      <td>-0.005839</td>\n",
       "      <td>-0.022745</td>\n",
       "      <td>0.001121</td>\n",
       "    </tr>\n",
       "    <tr>\n",
       "      <th>152</th>\n",
       "      <td>2.323</td>\n",
       "      <td>0.013083</td>\n",
       "      <td>1.920</td>\n",
       "      <td>201.079</td>\n",
       "      <td>3.799</td>\n",
       "      <td>1</td>\n",
       "      <td>0.025093</td>\n",
       "      <td>0.004761</td>\n",
       "      <td>0.005098</td>\n",
       "    </tr>\n",
       "    <tr>\n",
       "      <th>153</th>\n",
       "      <td>2.313</td>\n",
       "      <td>-0.004305</td>\n",
       "      <td>1.973</td>\n",
       "      <td>201.873</td>\n",
       "      <td>3.760</td>\n",
       "      <td>0</td>\n",
       "      <td>0.027604</td>\n",
       "      <td>-0.010266</td>\n",
       "      <td>0.003949</td>\n",
       "    </tr>\n",
       "    <tr>\n",
       "      <th>...</th>\n",
       "      <td>...</td>\n",
       "      <td>...</td>\n",
       "      <td>...</td>\n",
       "      <td>...</td>\n",
       "      <td>...</td>\n",
       "      <td>...</td>\n",
       "      <td>...</td>\n",
       "      <td>...</td>\n",
       "      <td>...</td>\n",
       "    </tr>\n",
       "    <tr>\n",
       "      <th>325</th>\n",
       "      <td>4.862</td>\n",
       "      <td>-0.015191</td>\n",
       "      <td>2.362</td>\n",
       "      <td>318.374</td>\n",
       "      <td>4.181</td>\n",
       "      <td>0</td>\n",
       "      <td>0.027850</td>\n",
       "      <td>-0.003100</td>\n",
       "      <td>0.002964</td>\n",
       "    </tr>\n",
       "    <tr>\n",
       "      <th>326</th>\n",
       "      <td>4.836</td>\n",
       "      <td>-0.005348</td>\n",
       "      <td>2.386</td>\n",
       "      <td>319.917</td>\n",
       "      <td>4.184</td>\n",
       "      <td>1</td>\n",
       "      <td>0.010161</td>\n",
       "      <td>0.000718</td>\n",
       "      <td>0.004847</td>\n",
       "    </tr>\n",
       "    <tr>\n",
       "      <th>327</th>\n",
       "      <td>4.853</td>\n",
       "      <td>0.003515</td>\n",
       "      <td>2.419</td>\n",
       "      <td>320.034</td>\n",
       "      <td>4.218</td>\n",
       "      <td>1</td>\n",
       "      <td>0.013831</td>\n",
       "      <td>0.008126</td>\n",
       "      <td>0.000366</td>\n",
       "    </tr>\n",
       "    <tr>\n",
       "      <th>328</th>\n",
       "      <td>4.800</td>\n",
       "      <td>-0.010921</td>\n",
       "      <td>2.419</td>\n",
       "      <td>322.507</td>\n",
       "      <td>4.211</td>\n",
       "      <td>0</td>\n",
       "      <td>0.000000</td>\n",
       "      <td>-0.001660</td>\n",
       "      <td>0.007727</td>\n",
       "    </tr>\n",
       "    <tr>\n",
       "      <th>329</th>\n",
       "      <td>4.791</td>\n",
       "      <td>-0.001875</td>\n",
       "      <td>2.451</td>\n",
       "      <td>324.815</td>\n",
       "      <td>4.204</td>\n",
       "      <td>1</td>\n",
       "      <td>0.013229</td>\n",
       "      <td>-0.001662</td>\n",
       "      <td>0.007156</td>\n",
       "    </tr>\n",
       "  </tbody>\n",
       "</table>\n",
       "<p>181 rows × 9 columns</p>\n",
       "</div>"
      ],
      "text/plain": [
       "     Beef $/LB  Beef_Pct_Change  Wheat_Price  CPI_Price  Milk Cost per Gallon  \\\n",
       "149      2.328         0.042077        1.812    199.793                 3.871   \n",
       "150      2.381         0.022766        1.884    199.835                 3.869   \n",
       "151      2.293        -0.036959        1.873    200.059                 3.781   \n",
       "152      2.323         0.013083        1.920    201.079                 3.799   \n",
       "153      2.313        -0.004305        1.973    201.873                 3.760   \n",
       "..         ...              ...          ...        ...                   ...   \n",
       "325      4.862        -0.015191        2.362    318.374                 4.181   \n",
       "326      4.836        -0.005348        2.386    319.917                 4.184   \n",
       "327      4.853         0.003515        2.419    320.034                 4.218   \n",
       "328      4.800        -0.010921        2.419    322.507                 4.211   \n",
       "329      4.791        -0.001875        2.451    324.815                 4.204   \n",
       "\n",
       "     DJIA_change  Wheat_Pct_Change  Milk_Pct_Change  CPI_Pct_Change  \n",
       "149            0          0.001658         0.000258        0.005046  \n",
       "150            0          0.039735        -0.000517        0.000210  \n",
       "151            0         -0.005839        -0.022745        0.001121  \n",
       "152            1          0.025093         0.004761        0.005098  \n",
       "153            0          0.027604        -0.010266        0.003949  \n",
       "..           ...               ...              ...             ...  \n",
       "325            0          0.027850        -0.003100        0.002964  \n",
       "326            1          0.010161         0.000718        0.004847  \n",
       "327            1          0.013831         0.008126        0.000366  \n",
       "328            0          0.000000        -0.001660        0.007727  \n",
       "329            1          0.013229        -0.001662        0.007156  \n",
       "\n",
       "[181 rows x 9 columns]"
      ]
     },
     "execution_count": 25,
     "metadata": {},
     "output_type": "execute_result"
    }
   ],
   "source": [
    "# Drop date column because it's irrelevant\n",
    "price_2008_df = price_2008_df.drop(\"Date\", axis=1)\n",
    "price_2008_df"
   ]
  },
  {
   "cell_type": "code",
   "execution_count": 26,
   "id": "e93cd34a",
   "metadata": {},
   "outputs": [],
   "source": [
    "# Separate features from target\n",
    "\n",
    "# The target is whether the DJIA went up or down\n",
    "y = price_2008_df[\"DJIA_change\"]\n",
    "\n",
    "# Features are all other data\n",
    "X = price_2008_df.drop(columns=\"DJIA_change\")"
   ]
  },
  {
   "cell_type": "code",
   "execution_count": 27,
   "id": "ec3577e2",
   "metadata": {},
   "outputs": [],
   "source": [
    "# Split into training and testing sets\n",
    "# Stratify data\n",
    "X_train, X_test, y_train, y_test = train_test_split(X, y, stratify=y)"
   ]
  },
  {
   "cell_type": "code",
   "execution_count": 28,
   "id": "1fb5238e",
   "metadata": {},
   "outputs": [
    {
     "data": {
      "text/plain": [
       "LogisticRegression(max_iter=200)"
      ]
     },
     "execution_count": 28,
     "metadata": {},
     "output_type": "execute_result"
    }
   ],
   "source": [
    "# Create logistic regression model\n",
    "classifier = LogisticRegression(solver='lbfgs', max_iter=200)\n",
    "\n",
    "classifier.fit(X_train, y_train)"
   ]
  },
  {
   "cell_type": "code",
   "execution_count": 29,
   "id": "b8fa69d5",
   "metadata": {},
   "outputs": [
    {
     "data": {
      "text/html": [
       "<div>\n",
       "<style scoped>\n",
       "    .dataframe tbody tr th:only-of-type {\n",
       "        vertical-align: middle;\n",
       "    }\n",
       "\n",
       "    .dataframe tbody tr th {\n",
       "        vertical-align: top;\n",
       "    }\n",
       "\n",
       "    .dataframe thead th {\n",
       "        text-align: right;\n",
       "    }\n",
       "</style>\n",
       "<table border=\"1\" class=\"dataframe\">\n",
       "  <thead>\n",
       "    <tr style=\"text-align: right;\">\n",
       "      <th></th>\n",
       "      <th>Prediction</th>\n",
       "      <th>Actual</th>\n",
       "    </tr>\n",
       "  </thead>\n",
       "  <tbody>\n",
       "    <tr>\n",
       "      <th>0</th>\n",
       "      <td>1</td>\n",
       "      <td>1</td>\n",
       "    </tr>\n",
       "    <tr>\n",
       "      <th>1</th>\n",
       "      <td>1</td>\n",
       "      <td>1</td>\n",
       "    </tr>\n",
       "    <tr>\n",
       "      <th>2</th>\n",
       "      <td>1</td>\n",
       "      <td>0</td>\n",
       "    </tr>\n",
       "    <tr>\n",
       "      <th>3</th>\n",
       "      <td>1</td>\n",
       "      <td>0</td>\n",
       "    </tr>\n",
       "    <tr>\n",
       "      <th>4</th>\n",
       "      <td>1</td>\n",
       "      <td>0</td>\n",
       "    </tr>\n",
       "    <tr>\n",
       "      <th>5</th>\n",
       "      <td>1</td>\n",
       "      <td>1</td>\n",
       "    </tr>\n",
       "    <tr>\n",
       "      <th>6</th>\n",
       "      <td>1</td>\n",
       "      <td>1</td>\n",
       "    </tr>\n",
       "    <tr>\n",
       "      <th>7</th>\n",
       "      <td>1</td>\n",
       "      <td>1</td>\n",
       "    </tr>\n",
       "    <tr>\n",
       "      <th>8</th>\n",
       "      <td>1</td>\n",
       "      <td>1</td>\n",
       "    </tr>\n",
       "    <tr>\n",
       "      <th>9</th>\n",
       "      <td>1</td>\n",
       "      <td>0</td>\n",
       "    </tr>\n",
       "    <tr>\n",
       "      <th>10</th>\n",
       "      <td>1</td>\n",
       "      <td>1</td>\n",
       "    </tr>\n",
       "    <tr>\n",
       "      <th>11</th>\n",
       "      <td>1</td>\n",
       "      <td>1</td>\n",
       "    </tr>\n",
       "    <tr>\n",
       "      <th>12</th>\n",
       "      <td>1</td>\n",
       "      <td>1</td>\n",
       "    </tr>\n",
       "    <tr>\n",
       "      <th>13</th>\n",
       "      <td>1</td>\n",
       "      <td>0</td>\n",
       "    </tr>\n",
       "    <tr>\n",
       "      <th>14</th>\n",
       "      <td>1</td>\n",
       "      <td>1</td>\n",
       "    </tr>\n",
       "    <tr>\n",
       "      <th>15</th>\n",
       "      <td>1</td>\n",
       "      <td>1</td>\n",
       "    </tr>\n",
       "    <tr>\n",
       "      <th>16</th>\n",
       "      <td>1</td>\n",
       "      <td>1</td>\n",
       "    </tr>\n",
       "    <tr>\n",
       "      <th>17</th>\n",
       "      <td>1</td>\n",
       "      <td>1</td>\n",
       "    </tr>\n",
       "    <tr>\n",
       "      <th>18</th>\n",
       "      <td>1</td>\n",
       "      <td>0</td>\n",
       "    </tr>\n",
       "    <tr>\n",
       "      <th>19</th>\n",
       "      <td>1</td>\n",
       "      <td>0</td>\n",
       "    </tr>\n",
       "  </tbody>\n",
       "</table>\n",
       "</div>"
      ],
      "text/plain": [
       "    Prediction  Actual\n",
       "0            1       1\n",
       "1            1       1\n",
       "2            1       0\n",
       "3            1       0\n",
       "4            1       0\n",
       "5            1       1\n",
       "6            1       1\n",
       "7            1       1\n",
       "8            1       1\n",
       "9            1       0\n",
       "10           1       1\n",
       "11           1       1\n",
       "12           1       1\n",
       "13           1       0\n",
       "14           1       1\n",
       "15           1       1\n",
       "16           1       1\n",
       "17           1       1\n",
       "18           1       0\n",
       "19           1       0"
      ]
     },
     "execution_count": 29,
     "metadata": {},
     "output_type": "execute_result"
    }
   ],
   "source": [
    "# Make predicitons\n",
    "y_pred = classifier.predict(X_test)\n",
    "results_df = pd.DataFrame({\"Prediction\": y_pred, \"Actual\": y_test}).reset_index(drop=True)\n",
    "results_df.head(20)"
   ]
  },
  {
   "cell_type": "code",
   "execution_count": 30,
   "id": "37368af2",
   "metadata": {},
   "outputs": [
    {
     "name": "stdout",
     "output_type": "stream",
     "text": [
      "0.6521739130434783\n"
     ]
    }
   ],
   "source": [
    "from sklearn.metrics import accuracy_score\n",
    "print(accuracy_score(y_test, y_pred))"
   ]
  },
  {
   "cell_type": "code",
   "execution_count": 31,
   "id": "7885a347",
   "metadata": {},
   "outputs": [],
   "source": [
    "from sklearn.metrics import confusion_matrix, classification_report"
   ]
  },
  {
   "cell_type": "code",
   "execution_count": 32,
   "id": "a1e56ed2",
   "metadata": {},
   "outputs": [
    {
     "name": "stdout",
     "output_type": "stream",
     "text": [
      "[[ 1 16]\n",
      " [ 0 29]]\n"
     ]
    }
   ],
   "source": [
    "matrix = confusion_matrix(y_test, y_pred)\n",
    "print(matrix)"
   ]
  },
  {
   "cell_type": "code",
   "execution_count": 33,
   "id": "a2dd80b1",
   "metadata": {
    "scrolled": false
   },
   "outputs": [
    {
     "name": "stdout",
     "output_type": "stream",
     "text": [
      "              precision    recall  f1-score   support\n",
      "\n",
      "           0       1.00      0.06      0.11        17\n",
      "           1       0.64      1.00      0.78        29\n",
      "\n",
      "    accuracy                           0.65        46\n",
      "   macro avg       0.82      0.53      0.45        46\n",
      "weighted avg       0.78      0.65      0.54        46\n",
      "\n"
     ]
    }
   ],
   "source": [
    "report = classification_report(y_test, y_pred)\n",
    "print(report)"
   ]
  },
  {
   "cell_type": "code",
   "execution_count": null,
   "id": "e8565524",
   "metadata": {},
   "outputs": [],
   "source": []
  }
 ],
 "metadata": {
  "kernelspec": {
   "display_name": "mlenv",
   "language": "python",
   "name": "mlenv"
  },
  "language_info": {
   "codemirror_mode": {
    "name": "ipython",
    "version": 3
   },
   "file_extension": ".py",
   "mimetype": "text/x-python",
   "name": "python",
   "nbconvert_exporter": "python",
   "pygments_lexer": "ipython3",
   "version": "3.7.13"
  }
 },
 "nbformat": 4,
 "nbformat_minor": 5
}
