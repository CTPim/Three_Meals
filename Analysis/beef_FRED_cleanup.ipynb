{
 "cells": [
  {
   "cell_type": "markdown",
   "id": "e470c4c6",
   "metadata": {},
   "source": [
    "Original data set in CSV.\n",
    "\n",
    "- Check data types and convert if needed\n",
    "- Other cleaning\n",
    "\n",
    "### Note: All prices are represented in dollars per pound\n",
    "\n",
    "The following code cleans the data and exports for use.\n",
    "\n",
    "## Important:\n",
    "Price data is missing from October 2012. As this was the only price point missing, rather than deleting the row, I filled it with the average of the preceeding and following months. We may wish to remove this data or replace it with a null value later."
   ]
  },
  {
   "cell_type": "code",
   "execution_count": 1,
   "id": "d0345dc7",
   "metadata": {},
   "outputs": [],
   "source": [
    "import pandas as pd"
   ]
  },
  {
   "cell_type": "code",
   "execution_count": null,
   "id": "c06d9b03",
   "metadata": {
    "scrolled": true
   },
   "outputs": [],
   "source": [
    "file_path = \"fred_beef.csv\"\n",
    "beef_df = pd.read_csv(file_path)\n",
    "beef_df"
   ]
  },
  {
   "cell_type": "code",
   "execution_count": null,
   "id": "d81fb3c9",
   "metadata": {},
   "outputs": [],
   "source": [
    "beef_df.dtypes"
   ]
  },
  {
   "cell_type": "code",
   "execution_count": null,
   "id": "5097a2ad",
   "metadata": {},
   "outputs": [],
   "source": [
    "# Rename price column\n",
    "beef_df.rename(mapper={\"APU0000703112\" : \"Price\"}, axis=1, inplace=True)\n",
    "beef_df.head()"
   ]
  },
  {
   "cell_type": "code",
   "execution_count": null,
   "id": "46a94c77",
   "metadata": {},
   "outputs": [],
   "source": [
    "# Convert date to datetime \n",
    "beef_df[\"DATE\"] = pd.to_datetime(beef_df[\"DATE\"], format=\"%Y-%m-%d\")\n",
    "\n",
    "beef_df.head()"
   ]
  },
  {
   "cell_type": "code",
   "execution_count": null,
   "id": "ca97a025",
   "metadata": {},
   "outputs": [],
   "source": [
    "# For some reason received ValueError that \".\" could not be coverted to float\n",
    "# will remove all periods, convert to float, and then divide by 1000\n",
    "# Price currently listed to 1/10th of a cent\n",
    "\n",
    "beef_df[\"Price\"] = beef_df[\"Price\"].str.replace(\".\", \"\")\n",
    "beef_df.head()"
   ]
  },
  {
   "cell_type": "code",
   "execution_count": null,
   "id": "5bc63b55",
   "metadata": {},
   "outputs": [],
   "source": [
    "beef_df.Price.astype(float)"
   ]
  },
  {
   "cell_type": "code",
   "execution_count": null,
   "id": "a9cdf705",
   "metadata": {},
   "outputs": [],
   "source": [
    "# Not sure why above error occurs. Why would an empty string cause a problem?"
   ]
  },
  {
   "cell_type": "code",
   "execution_count": null,
   "id": "6da94f4d",
   "metadata": {},
   "outputs": [],
   "source": [
    "# Check for null rows\n",
    "beef_df[beef_df[\"Price\"].isna()]"
   ]
  },
  {
   "cell_type": "code",
   "execution_count": null,
   "id": "5d644b4d",
   "metadata": {},
   "outputs": [],
   "source": [
    "# Try strip method \n",
    "beef_df[\"Price\"] = beef_df[\"Price\"].str.strip()\n",
    "beef_df.head()"
   ]
  },
  {
   "cell_type": "code",
   "execution_count": null,
   "id": "51f0ee72",
   "metadata": {},
   "outputs": [],
   "source": [
    "# Strip method did not help"
   ]
  },
  {
   "cell_type": "code",
   "execution_count": null,
   "id": "1c522de2",
   "metadata": {},
   "outputs": [],
   "source": [
    "# Store values from Price column as a list, drop column, and make a new column with same values\n",
    "# In this process, found the empty string value\n",
    "print(beef_df[\"Price\"].values) # Viewing this is how I found it\n",
    "print(\"-----\")\n",
    "print(beef_df[beef_df[\"Price\"] == ''])"
   ]
  },
  {
   "cell_type": "code",
   "execution_count": null,
   "id": "bf27bed7",
   "metadata": {},
   "outputs": [],
   "source": [
    "# Checking original dataset on FRED website\n",
    "# Confirmed no data on FRED website for October 2012\n",
    "# Filling with average of preceeding and following months\n",
    "mid_point = (int(beef_df.Price.values[344]) + int(beef_df.Price.values[346])) / 2\n",
    "beef_df.at[345, \"Price\"] = mid_point"
   ]
  },
  {
   "cell_type": "code",
   "execution_count": null,
   "id": "9f1ea104",
   "metadata": {},
   "outputs": [],
   "source": [
    "beef_df.iloc[345]"
   ]
  },
  {
   "cell_type": "code",
   "execution_count": null,
   "id": "af806be6",
   "metadata": {},
   "outputs": [],
   "source": [
    "# Retry conversion of all column data to float\n",
    "beef_df.Price = beef_df.Price.astype(float) / 1000\n",
    "beef_df.head()"
   ]
  },
  {
   "cell_type": "code",
   "execution_count": null,
   "id": "7a60e014",
   "metadata": {},
   "outputs": [],
   "source": [
    "# Remove all data before 1990-01-01 and store to new df\n",
    "cleaned_beef_df = beef_df[beef_df[\"DATE\"] >= \"1990-01-01\"]\n",
    "cleaned_beef_df"
   ]
  },
  {
   "cell_type": "code",
   "execution_count": null,
   "id": "f2769851",
   "metadata": {},
   "outputs": [],
   "source": [
    "# Store new DF as new csv file\n",
    "output_path = \"FRED_beef_cleaned.csv\"\n",
    "cleaned_beef_df.to_csv(output_path)"
   ]
  },
  {
   "cell_type": "markdown",
   "id": "59b84512",
   "metadata": {},
   "source": [
    "## Add Percent Change column to data\n",
    "Import from most recent dataset"
   ]
  },
  {
   "cell_type": "code",
   "execution_count": 2,
   "id": "10d8587b",
   "metadata": {},
   "outputs": [
    {
     "data": {
      "text/html": [
       "<div>\n",
       "<style scoped>\n",
       "    .dataframe tbody tr th:only-of-type {\n",
       "        vertical-align: middle;\n",
       "    }\n",
       "\n",
       "    .dataframe tbody tr th {\n",
       "        vertical-align: top;\n",
       "    }\n",
       "\n",
       "    .dataframe thead th {\n",
       "        text-align: right;\n",
       "    }\n",
       "</style>\n",
       "<table border=\"1\" class=\"dataframe\">\n",
       "  <thead>\n",
       "    <tr style=\"text-align: right;\">\n",
       "      <th></th>\n",
       "      <th>date_time</th>\n",
       "      <th>Beef $/LB</th>\n",
       "    </tr>\n",
       "  </thead>\n",
       "  <tbody>\n",
       "    <tr>\n",
       "      <th>0</th>\n",
       "      <td>1990-01-01</td>\n",
       "      <td>1.557</td>\n",
       "    </tr>\n",
       "    <tr>\n",
       "      <th>1</th>\n",
       "      <td>1990-02-01</td>\n",
       "      <td>1.572</td>\n",
       "    </tr>\n",
       "    <tr>\n",
       "      <th>2</th>\n",
       "      <td>1990-03-01</td>\n",
       "      <td>1.571</td>\n",
       "    </tr>\n",
       "    <tr>\n",
       "      <th>3</th>\n",
       "      <td>1990-04-01</td>\n",
       "      <td>1.593</td>\n",
       "    </tr>\n",
       "    <tr>\n",
       "      <th>4</th>\n",
       "      <td>1990-05-01</td>\n",
       "      <td>1.577</td>\n",
       "    </tr>\n",
       "  </tbody>\n",
       "</table>\n",
       "</div>"
      ],
      "text/plain": [
       "    date_time  Beef $/LB\n",
       "0  1990-01-01      1.557\n",
       "1  1990-02-01      1.572\n",
       "2  1990-03-01      1.571\n",
       "3  1990-04-01      1.593\n",
       "4  1990-05-01      1.577"
      ]
     },
     "execution_count": 2,
     "metadata": {},
     "output_type": "execute_result"
    }
   ],
   "source": [
    "# import file\n",
    "beef_df = pd.read_csv(\"../Edited Data/Output/FRED_beef_cleaned.csv\")\n",
    "beef_df.head()"
   ]
  },
  {
   "cell_type": "code",
   "execution_count": 3,
   "id": "46fcbcb6",
   "metadata": {},
   "outputs": [
    {
     "data": {
      "text/html": [
       "<div>\n",
       "<style scoped>\n",
       "    .dataframe tbody tr th:only-of-type {\n",
       "        vertical-align: middle;\n",
       "    }\n",
       "\n",
       "    .dataframe tbody tr th {\n",
       "        vertical-align: top;\n",
       "    }\n",
       "\n",
       "    .dataframe thead th {\n",
       "        text-align: right;\n",
       "    }\n",
       "</style>\n",
       "<table border=\"1\" class=\"dataframe\">\n",
       "  <thead>\n",
       "    <tr style=\"text-align: right;\">\n",
       "      <th></th>\n",
       "      <th>date_time</th>\n",
       "      <th>Beef $/LB</th>\n",
       "      <th>Beef_Pct_Change</th>\n",
       "    </tr>\n",
       "  </thead>\n",
       "  <tbody>\n",
       "    <tr>\n",
       "      <th>0</th>\n",
       "      <td>1990-01-01</td>\n",
       "      <td>1.557</td>\n",
       "      <td>NaN</td>\n",
       "    </tr>\n",
       "    <tr>\n",
       "      <th>1</th>\n",
       "      <td>1990-02-01</td>\n",
       "      <td>1.572</td>\n",
       "      <td>0.009634</td>\n",
       "    </tr>\n",
       "    <tr>\n",
       "      <th>2</th>\n",
       "      <td>1990-03-01</td>\n",
       "      <td>1.571</td>\n",
       "      <td>-0.000636</td>\n",
       "    </tr>\n",
       "    <tr>\n",
       "      <th>3</th>\n",
       "      <td>1990-04-01</td>\n",
       "      <td>1.593</td>\n",
       "      <td>0.014004</td>\n",
       "    </tr>\n",
       "    <tr>\n",
       "      <th>4</th>\n",
       "      <td>1990-05-01</td>\n",
       "      <td>1.577</td>\n",
       "      <td>-0.010044</td>\n",
       "    </tr>\n",
       "    <tr>\n",
       "      <th>5</th>\n",
       "      <td>1990-06-01</td>\n",
       "      <td>1.593</td>\n",
       "      <td>0.010146</td>\n",
       "    </tr>\n",
       "    <tr>\n",
       "      <th>6</th>\n",
       "      <td>1990-07-01</td>\n",
       "      <td>1.581</td>\n",
       "      <td>-0.007533</td>\n",
       "    </tr>\n",
       "    <tr>\n",
       "      <th>7</th>\n",
       "      <td>1990-08-01</td>\n",
       "      <td>1.576</td>\n",
       "      <td>-0.003163</td>\n",
       "    </tr>\n",
       "    <tr>\n",
       "      <th>8</th>\n",
       "      <td>1990-09-01</td>\n",
       "      <td>1.594</td>\n",
       "      <td>0.011421</td>\n",
       "    </tr>\n",
       "    <tr>\n",
       "      <th>9</th>\n",
       "      <td>1990-10-01</td>\n",
       "      <td>1.582</td>\n",
       "      <td>-0.007528</td>\n",
       "    </tr>\n",
       "    <tr>\n",
       "      <th>10</th>\n",
       "      <td>1990-11-01</td>\n",
       "      <td>1.622</td>\n",
       "      <td>0.025284</td>\n",
       "    </tr>\n",
       "    <tr>\n",
       "      <th>11</th>\n",
       "      <td>1990-12-01</td>\n",
       "      <td>1.630</td>\n",
       "      <td>0.004932</td>\n",
       "    </tr>\n",
       "    <tr>\n",
       "      <th>12</th>\n",
       "      <td>1991-01-01</td>\n",
       "      <td>1.647</td>\n",
       "      <td>0.010429</td>\n",
       "    </tr>\n",
       "    <tr>\n",
       "      <th>13</th>\n",
       "      <td>1991-02-01</td>\n",
       "      <td>1.632</td>\n",
       "      <td>-0.009107</td>\n",
       "    </tr>\n",
       "    <tr>\n",
       "      <th>14</th>\n",
       "      <td>1991-03-01</td>\n",
       "      <td>1.610</td>\n",
       "      <td>-0.013480</td>\n",
       "    </tr>\n",
       "    <tr>\n",
       "      <th>15</th>\n",
       "      <td>1991-04-01</td>\n",
       "      <td>1.611</td>\n",
       "      <td>0.000621</td>\n",
       "    </tr>\n",
       "    <tr>\n",
       "      <th>16</th>\n",
       "      <td>1991-05-01</td>\n",
       "      <td>1.624</td>\n",
       "      <td>0.008070</td>\n",
       "    </tr>\n",
       "    <tr>\n",
       "      <th>17</th>\n",
       "      <td>1991-06-01</td>\n",
       "      <td>1.604</td>\n",
       "      <td>-0.012315</td>\n",
       "    </tr>\n",
       "    <tr>\n",
       "      <th>18</th>\n",
       "      <td>1991-07-01</td>\n",
       "      <td>1.586</td>\n",
       "      <td>-0.011222</td>\n",
       "    </tr>\n",
       "    <tr>\n",
       "      <th>19</th>\n",
       "      <td>1991-08-01</td>\n",
       "      <td>1.578</td>\n",
       "      <td>-0.005044</td>\n",
       "    </tr>\n",
       "  </tbody>\n",
       "</table>\n",
       "</div>"
      ],
      "text/plain": [
       "     date_time  Beef $/LB  Beef_Pct_Change\n",
       "0   1990-01-01      1.557              NaN\n",
       "1   1990-02-01      1.572         0.009634\n",
       "2   1990-03-01      1.571        -0.000636\n",
       "3   1990-04-01      1.593         0.014004\n",
       "4   1990-05-01      1.577        -0.010044\n",
       "5   1990-06-01      1.593         0.010146\n",
       "6   1990-07-01      1.581        -0.007533\n",
       "7   1990-08-01      1.576        -0.003163\n",
       "8   1990-09-01      1.594         0.011421\n",
       "9   1990-10-01      1.582        -0.007528\n",
       "10  1990-11-01      1.622         0.025284\n",
       "11  1990-12-01      1.630         0.004932\n",
       "12  1991-01-01      1.647         0.010429\n",
       "13  1991-02-01      1.632        -0.009107\n",
       "14  1991-03-01      1.610        -0.013480\n",
       "15  1991-04-01      1.611         0.000621\n",
       "16  1991-05-01      1.624         0.008070\n",
       "17  1991-06-01      1.604        -0.012315\n",
       "18  1991-07-01      1.586        -0.011222\n",
       "19  1991-08-01      1.578        -0.005044"
      ]
     },
     "execution_count": 3,
     "metadata": {},
     "output_type": "execute_result"
    }
   ],
   "source": [
    "# Calculate and add pct_change column\n",
    "beef_df[\"Beef_Pct_Change\"] = beef_df[\"Beef $/LB\"].pct_change()\n",
    "beef_df.head(20)"
   ]
  },
  {
   "cell_type": "code",
   "execution_count": 4,
   "id": "594ac28c",
   "metadata": {},
   "outputs": [],
   "source": [
    "# save csv file\n",
    "output_path = \"../Edited Data/Output/FRED_beef_cleaned.csv\"\n",
    "beef_df.to_csv(output_path, index=False)"
   ]
  },
  {
   "cell_type": "code",
   "execution_count": null,
   "id": "5160e3d3",
   "metadata": {},
   "outputs": [],
   "source": []
  }
 ],
 "metadata": {
  "kernelspec": {
   "display_name": "PythonData",
   "language": "python",
   "name": "pythondata"
  },
  "language_info": {
   "codemirror_mode": {
    "name": "ipython",
    "version": 3
   },
   "file_extension": ".py",
   "mimetype": "text/x-python",
   "name": "python",
   "nbconvert_exporter": "python",
   "pygments_lexer": "ipython3",
   "version": "3.9.12"
  }
 },
 "nbformat": 4,
 "nbformat_minor": 5
}
